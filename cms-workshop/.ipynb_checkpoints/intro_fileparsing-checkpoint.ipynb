{
 "cells": [
  {
   "cell_type": "markdown",
   "id": "0b831ee3",
   "metadata": {},
   "source": [
    "# MolSSI Workshop\n",
    "## Introdution\n",
    "\n",
    "This lesson covers Python basics like variable creation and assignment and using the Jupyter notebook"
   ]
  },
  {
   "cell_type": "code",
   "execution_count": 10,
   "id": "9618a05a",
   "metadata": {},
   "outputs": [],
   "source": [
    "deltaH = -541.5   #kJ/mole\n",
    "deltaS =  10.4     #kJ/(mole K)\n",
    "temp = 298      #Kelvin\n",
    "deltaG = deltaH - temp * deltaS"
   ]
  },
  {
   "cell_type": "code",
   "execution_count": 11,
   "id": "8293ed12",
   "metadata": {},
   "outputs": [
    {
     "name": "stdout",
     "output_type": "stream",
     "text": [
      "-3640.7000000000003\n",
      "-3640700.0000000005\n"
     ]
    }
   ],
   "source": [
    "deltaG_joules = deltaG * 1000\n",
    "print(deltaG)\n",
    "print(deltaG_joules)"
   ]
  },
  {
   "cell_type": "code",
   "execution_count": 12,
   "id": "304c1844",
   "metadata": {},
   "outputs": [
    {
     "name": "stdout",
     "output_type": "stream",
     "text": [
      "The length of this list is 4\n",
      "-13.4\n",
      "-11.296800000000001\n"
     ]
    }
   ],
   "source": [
    "# This is a list\n",
    "energy_kcal = [-13.4, -2.7, 5.4, 42.1]\n",
    "# I can determine its length\n",
    "energy_length = len(energy_kcal)\n",
    "\n",
    "# print the list length\n",
    "print('The length of this list is', energy_length)\n",
    "print(energy_kcal[0])\n",
    "\n",
    "# convert 2nd list elem to kJ\n",
    "energy_kj = energy_kcal[1] * 4.184\n",
    "print(energy_kj)"
   ]
  },
  {
   "cell_type": "code",
   "execution_count": 17,
   "id": "cee5d941",
   "metadata": {},
   "outputs": [
    {
     "name": "stdout",
     "output_type": "stream",
     "text": [
      "[-56.0656, -11.296800000000001, 22.593600000000002, 176.1464]\n"
     ]
    }
   ],
   "source": [
    "energy_kJ = []\n",
    "for number in energy_kcal:\n",
    "    kJ = number * 4.184\n",
    "    energy_kJ.append(kJ)\n",
    "print(energy_kJ)"
   ]
  },
  {
   "cell_type": "code",
   "execution_count": 18,
   "id": "ec824543",
   "metadata": {},
   "outputs": [
    {
     "name": "stdout",
     "output_type": "stream",
     "text": [
      "[-56.0656, -11.296800000000001]\n"
     ]
    }
   ],
   "source": [
    "# only prints negative energies\n",
    "negative_energy_kJ = []\n",
    "\n",
    "for number in energy_kJ:\n",
    "    if number < 0:\n",
    "        negative_energy_kJ.append(number)\n",
    "\n",
    "print(negative_energy_kJ)"
   ]
  },
  {
   "cell_type": "code",
   "execution_count": 19,
   "id": "28705ee6",
   "metadata": {},
   "outputs": [
    {
     "name": "stdout",
     "output_type": "stream",
     "text": [
      " Volume in drive C has no label.\n",
      " Volume Serial Number is 38D4-0115\n",
      "\n",
      " Directory of C:\\Users\\Daniel\\Desktop\\comp-chem\\comp-chem\\cms-workshop\\data\n",
      "\n",
      "05/22/2025  08:54 PM    <DIR>          .\n",
      "05/22/2025  09:05 PM    <DIR>          ..\n",
      "05/22/2025  08:54 PM           212,934 03_Prod.mdout\n",
      "05/22/2025  08:54 PM               619 benzene.xyz\n",
      "05/22/2025  08:54 PM             2,471 buckminsterfullerene.xyz\n",
      "05/22/2025  08:54 PM           355,359 distance_data_headers.csv\n",
      "05/22/2025  08:54 PM    <DIR>          outfiles\n",
      "05/22/2025  08:54 PM            61,568 sapt.out\n",
      "05/22/2025  08:54 PM               155 water.xyz\n",
      "               6 File(s)        633,106 bytes\n",
      "               3 Dir(s)  666,176,708,608 bytes free\n"
     ]
    }
   ],
   "source": [
    "ls data"
   ]
  },
  {
   "cell_type": "code",
   "execution_count": 20,
   "id": "fa25fa5a",
   "metadata": {},
   "outputs": [
    {
     "data": {
      "text/plain": [
       "'C:\\\\Users\\\\Daniel\\\\Desktop\\\\comp-chem\\\\comp-chem\\\\cms-workshop'"
      ]
     },
     "execution_count": 20,
     "metadata": {},
     "output_type": "execute_result"
    }
   ],
   "source": [
    "pwd"
   ]
  },
  {
   "cell_type": "code",
   "execution_count": 21,
   "id": "f0b8d740",
   "metadata": {},
   "outputs": [
    {
     "name": "stdout",
     "output_type": "stream",
     "text": [
      "data\\outfiles\\ethanol.out\n"
     ]
    }
   ],
   "source": [
    "import os\n",
    "\n",
    "ethanol_file = os.path.join('data', 'outfiles', 'ethanol.out')\n",
    "print(ethanol_file)"
   ]
  },
  {
   "cell_type": "code",
   "execution_count": 22,
   "id": "ff67a2a4",
   "metadata": {},
   "outputs": [],
   "source": [
    "outfile = open(ethanol_file,\"r\")\n",
    "data = outfile.readlines()"
   ]
  },
  {
   "cell_type": "code",
   "execution_count": 23,
   "id": "fee20969",
   "metadata": {},
   "outputs": [],
   "source": [
    "outfile.close()"
   ]
  },
  {
   "cell_type": "code",
   "execution_count": 24,
   "id": "1c986d22",
   "metadata": {},
   "outputs": [
    {
     "name": "stdout",
     "output_type": "stream",
     "text": [
      "270\n"
     ]
    }
   ],
   "source": [
    "print(len(data))"
   ]
  },
  {
   "cell_type": "code",
   "execution_count": 27,
   "id": "39574582",
   "metadata": {
    "scrolled": true
   },
   "outputs": [
    {
     "name": "stdout",
     "output_type": "stream",
     "text": [
      "['@DF-RHF', 'Final', 'Energy:', '-154.09130176573018']\n"
     ]
    }
   ],
   "source": [
    "for line in data:\n",
    "    if 'Final Energy' in line:\n",
    "        energy_line = line\n",
    "        words = energy_line.split()\n",
    "        print(words)"
   ]
  },
  {
   "cell_type": "code",
   "execution_count": 28,
   "id": "9d74cbac",
   "metadata": {},
   "outputs": [
    {
     "name": "stdout",
     "output_type": "stream",
     "text": [
      "-104.09130176573018\n"
     ]
    }
   ],
   "source": [
    "energy = words[-1]\n",
    "energy = float(energy)\n",
    "print(energy + 50)"
   ]
  },
  {
   "cell_type": "code",
   "execution_count": 29,
   "id": "69a250cd",
   "metadata": {},
   "outputs": [],
   "source": [
    "sapt_file = os.path.join('data', 'sapt.out')\n",
    "outfile = open(sapt_file,\"r\")\n",
    "data2 = outfile.readlines()"
   ]
  },
  {
   "cell_type": "code",
   "execution_count": 30,
   "id": "b90387a8",
   "metadata": {},
   "outputs": [
    {
     "name": "stdout",
     "output_type": "stream",
     "text": [
      "1535\n"
     ]
    }
   ],
   "source": [
    "outfile.close()\n",
    "print(len(data2))"
   ]
  },
  {
   "cell_type": "code",
   "execution_count": 40,
   "id": "2bd26fc1",
   "metadata": {
    "scrolled": true
   },
   "outputs": [
    {
     "name": "stdout",
     "output_type": "stream",
     "text": [
      "['    Electrostatics                 -3.59915058 [mEh]      -2.25850118 [kcal/mol]      -9.44956984 [kJ/mol]\\n', '    Exchange                        3.62911156 [mEh]       2.27730198 [kcal/mol]       9.52823241 [kJ/mol]\\n', '    Induction                      -0.83137115 [mEh]      -0.52169330 [kcal/mol]      -2.18276496 [kJ/mol]\\n', '    Dispersion                     -1.50542374 [mEh]      -0.94466770 [kcal/mol]      -3.95249003 [kJ/mol]\\n']\n",
      "Electrostatics : -2.25850118 kcal/mol\n",
      "Exchange : 2.27730198 kcal/mol\n",
      "Induction : -0.5216933 kcal/mol\n",
      "Dispersion : -0.9446677 kcal/mol\n",
      "Total Energy : -1.4475602000000003 kcal/mol\n"
     ]
    }
   ],
   "source": [
    "important_lines = []\n",
    "energies = []\n",
    "\n",
    "for line in data2:\n",
    "        if 'Electrostatics    ' in line:\n",
    "            electro_line = line\n",
    "            important_lines.append(electro_line)\n",
    "        if 'Exchange       ' in line:\n",
    "            exchange_line = line\n",
    "            important_lines.append(exchange_line)\n",
    "        if 'Induction      ' in line:\n",
    "            induction_line = line\n",
    "            important_lines.append(induction_line)\n",
    "        if 'Dispersion     ' in line:\n",
    "            dispersion_line = line\n",
    "            important_lines.append(dispersion_line)\n",
    "\n",
    "# print(important_lines)\n",
    "\n",
    "for line in important_lines:\n",
    "    words = line.split()\n",
    "    # print(words)\n",
    "    energy_type = words[0]\n",
    "    energy_kcal = float(words[3])\n",
    "    energies.append(energy_kcal)\n",
    "    print('{} : {} kcal/mol'.format(energy_type, energy_kcal))\n",
    "\n",
    "total_energy = sum(energies)\n",
    "print('Total Energy : {} kcal/mol'.format(total_energy))"
   ]
  },
  {
   "cell_type": "code",
   "execution_count": 47,
   "id": "12fb1459",
   "metadata": {},
   "outputs": [
    {
     "name": "stdout",
     "output_type": "stream",
     "text": [
      "77\n",
      "       Center              X                  Y                   Z               Mass       \n",
      "\n",
      "       Center              X                  Y                   Z               Mass       \n",
      "\n",
      "    ------------   -----------------  -----------------  -----------------  -----------------\n",
      "\n",
      "           H          0.278612764252     1.265047047666    -1.274211449480     1.007825032070\n",
      "\n",
      "           C          0.253854764252     1.255132047666    -0.179502449480    12.000000000000\n",
      "\n",
      "           H          1.294208764252     1.265046047666     0.162059550520     1.007825032070\n",
      "\n"
     ]
    }
   ],
   "source": [
    "for linenum, line in enumerate(data):\n",
    "    if 'Center' in line:\n",
    "        print(linenum)\n",
    "        print(line)\n",
    "n = 77\n",
    "while n < 82:\n",
    "    print(data[n])\n",
    "    n = n+1   "
   ]
  },
  {
   "cell_type": "code",
   "execution_count": null,
   "id": "2425fc52",
   "metadata": {},
   "outputs": [],
   "source": []
  }
 ],
 "metadata": {
  "kernelspec": {
   "display_name": "Python 3 (ipykernel)",
   "language": "python",
   "name": "python3"
  },
  "language_info": {
   "codemirror_mode": {
    "name": "ipython",
    "version": 3
   },
   "file_extension": ".py",
   "mimetype": "text/x-python",
   "name": "python",
   "nbconvert_exporter": "python",
   "pygments_lexer": "ipython3",
   "version": "3.10.8"
  }
 },
 "nbformat": 4,
 "nbformat_minor": 5
}

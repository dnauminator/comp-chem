{
 "cells": [
  {
   "cell_type": "code",
   "execution_count": 1,
   "id": "40a2c9ee",
   "metadata": {},
   "outputs": [
    {
     "name": "stdout",
     "output_type": "stream",
     "text": [
      "data\\outfiles\\*.out\n"
     ]
    }
   ],
   "source": [
    "import os\n",
    "\n",
    "outfile_directory = os.path.join('data', 'outfiles')\n",
    "file_location = os.path.join('data','outfiles','*.out')\n",
    "print(file_location)"
   ]
  },
  {
   "cell_type": "code",
   "execution_count": 2,
   "id": "83abad3c",
   "metadata": {},
   "outputs": [
    {
     "name": "stdout",
     "output_type": "stream",
     "text": [
      "['data\\\\outfiles\\\\butanol.out', 'data\\\\outfiles\\\\decanol.out', 'data\\\\outfiles\\\\ethanol.out', 'data\\\\outfiles\\\\heptanol.out', 'data\\\\outfiles\\\\hexanol.out', 'data\\\\outfiles\\\\methanol.out', 'data\\\\outfiles\\\\nonanol.out', 'data\\\\outfiles\\\\octanol.out', 'data\\\\outfiles\\\\pentanol.out', 'data\\\\outfiles\\\\propanol.out']\n"
     ]
    }
   ],
   "source": [
    "import glob\n",
    "filenames = glob.glob(file_location)\n",
    "print(filenames)"
   ]
  },
  {
   "cell_type": "code",
   "execution_count": 3,
   "id": "c1289377",
   "metadata": {},
   "outputs": [
    {
     "name": "stdout",
     "output_type": "stream",
     "text": [
      "-232.1655798347283\n",
      "-466.3836241400086\n",
      "-154.09130176573018\n",
      "-349.27397687072676\n",
      "-310.2385332251633\n",
      "-115.04800861868374\n",
      "-427.3465180082815\n",
      "-388.3110864554743\n",
      "-271.20138119895074\n",
      "-193.12836249728798\n"
     ]
    }
   ],
   "source": [
    "for f in filenames:\n",
    "    outfile = open(f,'r')\n",
    "    data = outfile.readlines()\n",
    "    outfile.close()\n",
    "    \n",
    "# ok, let's get the energies out of all our files\n",
    "\n",
    "    for line in data:\n",
    "        if 'Final Energy' in line:\n",
    "            energy_line = line\n",
    "            words = energy_line.split()\n",
    "            energy = float(words[3])\n",
    "            print(energy)"
   ]
  },
  {
   "cell_type": "code",
   "execution_count": 4,
   "id": "6413692f",
   "metadata": {},
   "outputs": [
    {
     "name": "stdout",
     "output_type": "stream",
     "text": [
      "data\\outfiles\\butanol.out\n",
      "butanol.out\n",
      "butanol\n"
     ]
    }
   ],
   "source": [
    "first_file = filenames[0]\n",
    "print(first_file)\n",
    "\n",
    "file_name = os.path.basename(first_file)\n",
    "print(file_name)\n",
    "\n",
    "split_filename = file_name.split('.')\n",
    "molecule_name = split_filename[0]\n",
    "print(molecule_name)"
   ]
  },
  {
   "cell_type": "code",
   "execution_count": 5,
   "id": "96c108b9",
   "metadata": {},
   "outputs": [],
   "source": [
    "# we open/create a file for writing (w+)\n",
    "# use a+ to append\n",
    "datafile = open('energies.txt','w+')\n",
    "for f in filenames:\n",
    "    # get molecule name\n",
    "    file_name = os.path.basename(f)\n",
    "    split_filename = file_name.split('.')\n",
    "    molecule_name = split_filename[0]\n",
    "\n",
    "    # read data\n",
    "    outfile = open(f,'r')\n",
    "    data = outfile.readlines()\n",
    "    outfile.close()\n",
    "\n",
    "    # loop thru\n",
    "    for line in data:\n",
    "        if 'Final Energy' in line:\n",
    "            energy_line = line\n",
    "            words = energy_line.split()\n",
    "            energy = float(words[3])\n",
    "            datafile.write(F'{molecule_name} \\t {energy} \\n')\n",
    "            # F' is F string notation. \\n is a newline character to keep text from smushing\n",
    "datafile.close()"
   ]
  },
  {
   "cell_type": "code",
   "execution_count": 6,
   "id": "62535a5e",
   "metadata": {},
   "outputs": [],
   "source": [
    "# 03_Prod.mdout Etot.txt exercise\n",
    "\n",
    "datafile = open('Etot.txt','w+')\n",
    "prod = os.path.join('data','*.mdout')\n",
    "prod = glob.glob(prod)\n",
    "outfile = open(prod[0],'r')\n",
    "data = outfile.readlines()\n",
    "outfile.close()\n",
    "\n",
    "for line in data:\n",
    "    if 'Etot   ' in line:\n",
    "        Etot_line = line\n",
    "        words = Etot_line.split()\n",
    "        Etot = float(words[2])\n",
    "        datafile.write(F'{Etot} \\n')\n",
    "datafile.close()"
   ]
  },
  {
   "cell_type": "code",
   "execution_count": null,
   "id": "1f3272dd",
   "metadata": {},
   "outputs": [],
   "source": []
  },
  {
   "cell_type": "code",
   "execution_count": 9,
   "id": "376c1151",
   "metadata": {},
   "outputs": [
    {
     "ename": "AttributeError",
     "evalue": "'list' object has no attribute 'type'",
     "output_type": "error",
     "traceback": [
      "\u001b[1;31m---------------------------------------------------------------------------\u001b[0m",
      "\u001b[1;31mAttributeError\u001b[0m                            Traceback (most recent call last)",
      "Cell \u001b[1;32mIn[9], line 10\u001b[0m\n\u001b[0;32m      8\u001b[0m distances \u001b[38;5;241m=\u001b[39m numpy\u001b[38;5;241m.\u001b[39mgenfromtxt(fname \u001b[38;5;241m=\u001b[39m distance_file, delimiter \u001b[38;5;241m=\u001b[39m \u001b[38;5;124m'\u001b[39m\u001b[38;5;124m,\u001b[39m\u001b[38;5;124m'\u001b[39m, dtype \u001b[38;5;241m=\u001b[39m \u001b[38;5;124m'\u001b[39m\u001b[38;5;124municode\u001b[39m\u001b[38;5;124m'\u001b[39m)\n\u001b[0;32m      9\u001b[0m \u001b[38;5;66;03m# printing distances will give us everything as a list of lists\u001b[39;00m\n\u001b[1;32m---> 10\u001b[0m data \u001b[38;5;241m=\u001b[39m \u001b[43mdata\u001b[49m\u001b[38;5;241;43m.\u001b[39;49m\u001b[43mtype\u001b[49m(numpy\u001b[38;5;241m.\u001b[39mfloat)\n\u001b[0;32m     11\u001b[0m \u001b[38;5;66;03m# printing data in this form will give us a list of list of all the floats\u001b[39;00m\n\u001b[0;32m     12\u001b[0m \u001b[38;5;66;03m# array_name[row, column] therefore data[0,1] is 8.95420e+00\u001b[39;00m\n\u001b[0;32m     13\u001b[0m \u001b[38;5;28mprint\u001b[39m(data[\u001b[38;5;241m0\u001b[39m,\u001b[38;5;241m1\u001b[39m])\n",
      "\u001b[1;31mAttributeError\u001b[0m: 'list' object has no attribute 'type'"
     ]
    }
   ],
   "source": [
    "import numpy\n",
    "# we are interested here in genfromtxt()\n",
    "    # we take a file and turn it into a list of lists\n",
    "    # mixed data types --> unicode dtype, csv --> delimiter = ','\n",
    "# I don't need to import os again as I already have earlier\n",
    "\n",
    "distance_file = os.path.join('data','distance_data_headers.csv')\n",
    "distances = numpy.genfromtxt(fname = distance_file, delimiter = ',', dtype = 'unicode')\n",
    "# printing distances will give us everything as a list of lists\n",
    "data = data.type(numpy.float)\n",
    "# printing data in this form will give us a list of list of all the floats\n",
    "# array_name[row, column] therefore data[0,1] is 8.95420e+00\n",
    "print(data[0,1])"
   ]
  },
  {
   "cell_type": "code",
   "execution_count": null,
   "id": "09a4d080",
   "metadata": {},
   "outputs": [],
   "source": []
  }
 ],
 "metadata": {
  "kernelspec": {
   "display_name": "Python 3 (ipykernel)",
   "language": "python",
   "name": "python3"
  },
  "language_info": {
   "codemirror_mode": {
    "name": "ipython",
    "version": 3
   },
   "file_extension": ".py",
   "mimetype": "text/x-python",
   "name": "python",
   "nbconvert_exporter": "python",
   "pygments_lexer": "ipython3",
   "version": "3.10.8"
  }
 },
 "nbformat": 4,
 "nbformat_minor": 5
}

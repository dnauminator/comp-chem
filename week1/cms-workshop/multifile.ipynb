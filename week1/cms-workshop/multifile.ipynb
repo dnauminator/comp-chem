{
 "cells": [
  {
   "cell_type": "code",
   "execution_count": 1,
   "id": "471a0512",
   "metadata": {},
   "outputs": [
    {
     "name": "stdout",
     "output_type": "stream",
     "text": [
      "data\\outfiles\\*.out\n"
     ]
    }
   ],
   "source": [
    "import os\n",
    "\n",
    "outfile_directory = os.path.join('data', 'outfiles')\n",
    "file_location = os.path.join('data','outfiles','*.out')\n",
    "print(file_location)"
   ]
  },
  {
   "cell_type": "code",
   "execution_count": 2,
   "id": "12192c77",
   "metadata": {},
   "outputs": [
    {
     "name": "stdout",
     "output_type": "stream",
     "text": [
      "['data\\\\outfiles\\\\butanol.out', 'data\\\\outfiles\\\\decanol.out', 'data\\\\outfiles\\\\ethanol.out', 'data\\\\outfiles\\\\heptanol.out', 'data\\\\outfiles\\\\hexanol.out', 'data\\\\outfiles\\\\methanol.out', 'data\\\\outfiles\\\\nonanol.out', 'data\\\\outfiles\\\\octanol.out', 'data\\\\outfiles\\\\pentanol.out', 'data\\\\outfiles\\\\propanol.out']\n"
     ]
    }
   ],
   "source": [
    "import glob\n",
    "filenames = glob.glob(file_location)\n",
    "print(filenames)"
   ]
  },
  {
   "cell_type": "code",
   "execution_count": 3,
   "id": "8f75959f",
   "metadata": {},
   "outputs": [
    {
     "name": "stdout",
     "output_type": "stream",
     "text": [
      "-232.1655798347283\n",
      "-466.3836241400086\n",
      "-154.09130176573018\n",
      "-349.27397687072676\n",
      "-310.2385332251633\n",
      "-115.04800861868374\n",
      "-427.3465180082815\n",
      "-388.3110864554743\n",
      "-271.20138119895074\n",
      "-193.12836249728798\n"
     ]
    }
   ],
   "source": [
    "for f in filenames:\n",
    "    outfile = open(f,'r')\n",
    "    data = outfile.readlines()\n",
    "    outfile.close()\n",
    "    \n",
    "# ok, let's get the energies out of all our files\n",
    "\n",
    "    for line in data:\n",
    "        if 'Final Energy' in line:\n",
    "            energy_line = line\n",
    "            words = energy_line.split()\n",
    "            energy = float(words[3])\n",
    "            print(energy)"
   ]
  },
  {
   "cell_type": "code",
   "execution_count": 4,
   "id": "4a5307d1",
   "metadata": {},
   "outputs": [
    {
     "name": "stdout",
     "output_type": "stream",
     "text": [
      "data\\outfiles\\butanol.out\n",
      "butanol.out\n",
      "butanol\n"
     ]
    }
   ],
   "source": [
    "first_file = filenames[0]\n",
    "print(first_file)\n",
    "\n",
    "file_name = os.path.basename(first_file)\n",
    "print(file_name)\n",
    "\n",
    "split_filename = file_name.split('.')\n",
    "molecule_name = split_filename[0]\n",
    "print(molecule_name)"
   ]
  },
  {
   "cell_type": "code",
   "execution_count": 5,
   "id": "d069fff2",
   "metadata": {},
   "outputs": [],
   "source": [
    "# we open/create a file for writing (w+)\n",
    "# use a+ to append\n",
    "datafile = open('energies.txt','w+')\n",
    "for f in filenames:\n",
    "    # get molecule name\n",
    "    file_name = os.path.basename(f)\n",
    "    split_filename = file_name.split('.')\n",
    "    molecule_name = split_filename[0]\n",
    "\n",
    "    # read data\n",
    "    outfile = open(f,'r')\n",
    "    data = outfile.readlines()\n",
    "    outfile.close()\n",
    "\n",
    "    # loop thru\n",
    "    for line in data:\n",
    "        if 'Final Energy' in line:\n",
    "            energy_line = line\n",
    "            words = energy_line.split()\n",
    "            energy = float(words[3])\n",
    "            datafile.write(F'{molecule_name} \\t {energy} \\n')\n",
    "            # F' is F string notation. \\n is a newline character to keep text from smushing\n",
    "datafile.close()"
   ]
  },
  {
   "cell_type": "code",
   "execution_count": 6,
   "id": "5dd34a04",
   "metadata": {},
   "outputs": [],
   "source": [
    "# 03_Prod.mdout Etot.txt exercise\n",
    "\n",
    "datafile = open('Etot.txt','w+')\n",
    "prod = os.path.join('data','*.mdout')\n",
    "prod = glob.glob(prod)\n",
    "outfile = open(prod[0],'r')\n",
    "data = outfile.readlines()\n",
    "outfile.close()\n",
    "\n",
    "for line in data:\n",
    "    if 'Etot   ' in line:\n",
    "        Etot_line = line\n",
    "        words = Etot_line.split()\n",
    "        Etot = float(words[2])\n",
    "        datafile.write(F'{Etot} \\n')\n",
    "datafile.close()"
   ]
  },
  {
   "cell_type": "code",
   "execution_count": 7,
   "id": "eff8d74b",
   "metadata": {},
   "outputs": [
    {
     "name": "stdout",
     "output_type": "stream",
     "text": [
      "8.9542\n",
      "[[ 1.      8.9542  5.8024]\n",
      " [ 2.      8.6181  6.0942]\n",
      " [ 3.      9.0066  6.0637]\n",
      " [ 4.      9.2002  6.0227]\n",
      " [ 5.      9.1294  5.9365]\n",
      " [ 6.      9.0462  6.2553]\n",
      " [ 7.      8.8657  5.9186]\n",
      " [ 8.      9.3256  6.2351]\n",
      " [ 9.      9.4184  6.1993]\n",
      " [10.      9.06    6.0478]]\n",
      "10.87695\n"
     ]
    }
   ],
   "source": [
    "import numpy\n",
    "# we are interested here in genfromtxt()\n",
    "    # we take a file and turn it into a list of lists\n",
    "    # mixed data types --> unicode dtype, csv --> delimiter = ','\n",
    "# I don't need to import os again as I already have earlier\n",
    "\n",
    "distance_file = os.path.join('data','distance_data_headers.csv')\n",
    "distances = numpy.genfromtxt(fname = distance_file, delimiter = ',', dtype = 'unicode')\n",
    "# printing distances will give us everything as a list of lists\n",
    "headers = distances[0]\n",
    "data = distances[1:]\n",
    "data = data.astype(numpy.single)\n",
    "# printing data in this form will give us a list of list of all the floats\n",
    "# array_name[row, column] therefore data[0,1] is 8.9542\n",
    "print(data[0,1])\n",
    "small_data = data[0:10,0:3]\n",
    "print(small_data)\n",
    "\n",
    "thr4_atp = data[:,1]  # Every row, just the THR4_ATP column\n",
    "avg_thr4_atp = numpy.mean(thr4_atp)\n",
    "print(avg_thr4_atp)"
   ]
  },
  {
   "cell_type": "code",
   "execution_count": 8,
   "id": "9df27d16",
   "metadata": {},
   "outputs": [
    {
     "name": "stdout",
     "output_type": "stream",
     "text": [
      "THR4_ATP: 10.87695026397705\n",
      "THR4_ASP: 7.342345237731934\n",
      "TYR6_ATP: 11.209792137145996\n",
      "TYR6_ASP: 10.993443489074707\n"
     ]
    }
   ],
   "source": [
    "num_columns = len(data[0])\n",
    "for i in range(1, num_columns):\n",
    "    column = data[:,i]\n",
    "    avg_column = numpy.mean(column)\n",
    "    print(F'{headers[i]}: {avg_column}')"
   ]
  },
  {
   "cell_type": "code",
   "execution_count": 9,
   "id": "a96908ed",
   "metadata": {},
   "outputs": [],
   "source": [
    "# we want to read water.xyz and get atom distances\n",
    "datafile = open('bond_lengths.txt','w+')\n",
    "file_location = os.path.join('data', 'water.xyz')\n",
    "output = numpy.genfromtxt(fname=file_location, skip_header=2,  dtype='unicode')\n",
    "symb = output[:,0] # atom label\n",
    "coords = (output[:,1:])\n",
    "coords = coords.astype(numpy.single)\n",
    "num_atoms = len(symb) # how many atoms are there\n",
    "for num1 in range(0,num_atoms):\n",
    "    for num2 in range(0,num_atoms):\n",
    "        if num1 < num2: # prevents double counting (O to H1 vs H1 to O reduced down to 1)\n",
    "            x_distance = coords[num1,0] - coords[num2,0]\n",
    "            y_distance = coords[num1,1] - coords[num2,1]\n",
    "            z_distance = coords[num1,2] - coords[num2,2]\n",
    "            bond_length_12 = numpy.sqrt(x_distance**2+y_distance**2+z_distance**2)\n",
    "            if bond_length_12 > 0 and bond_length_12 <= 1.5: # no self-atom counting and no counting non-bonds\n",
    "                datafile.write(F'{symb[num1]} to {symb[num2]} : {bond_length_12:.3f}\\n') # .3f = 3 sigfigs\n",
    "datafile.close()"
   ]
  },
  {
   "cell_type": "code",
   "execution_count": null,
   "id": "a47b1d6f",
   "metadata": {},
   "outputs": [],
   "source": []
  }
 ],
 "metadata": {
  "kernelspec": {
   "display_name": "Python 3 (ipykernel)",
   "language": "python",
   "name": "python3"
  },
  "language_info": {
   "codemirror_mode": {
    "name": "ipython",
    "version": 3
   },
   "file_extension": ".py",
   "mimetype": "text/x-python",
   "name": "python",
   "nbconvert_exporter": "python",
   "pygments_lexer": "ipython3",
   "version": "3.10.14"
  }
 },
 "nbformat": 4,
 "nbformat_minor": 5
}

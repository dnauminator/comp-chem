{
 "cells": [
  {
   "cell_type": "code",
   "execution_count": null,
   "id": "74228ea6-6013-4374-b594-dd4fdf612686",
   "metadata": {},
   "outputs": [],
   "source": []
  }
 ],
 "metadata": {
  "kernelspec": {
   "display_name": "",
   "name": ""
  },
  "language_info": {
   "name": ""
  }
 },
 "nbformat": 4,
 "nbformat_minor": 5
}

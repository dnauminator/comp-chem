{
 "cells": [
  {
   "cell_type": "code",
   "execution_count": 1,
   "id": "700729ff-dd18-45a6-8f07-7ce717537456",
   "metadata": {},
   "outputs": [
    {
     "name": "stdout",
     "output_type": "stream",
     "text": [
      "Python executable path used by Jupyter: /home/daniel/miniconda3/envs/md_env/bin/python\n",
      "Python environment prefix used by Jupyter: /home/daniel/miniconda3/envs/md_env\n"
     ]
    }
   ],
   "source": [
    "import sys\n",
    "print(\"Python executable path used by Jupyter:\", sys.executable)\n",
    "print(\"Python environment prefix used by Jupyter:\", sys.prefix)"
   ]
  },
  {
   "cell_type": "code",
   "execution_count": 2,
   "id": "b8ede89d-f115-481b-94a5-48a641d2db67",
   "metadata": {},
   "outputs": [
    {
     "name": "stdout",
     "output_type": "stream",
     "text": [
      "RDKit imported successfully!\n",
      "OpenFF Molecule imported successfully!\n",
      "OpenFF ForceField imported successfully!\n"
     ]
    },
    {
     "data": {
      "image/png": "[encoded data removed]",
      "text/plain": [
       "<rdkit.Chem.rdchem.Mol at 0x7fddfb9ff760>"
      ]
     },
     "metadata": {},
     "output_type": "display_data"
    },
    {
     "name": "stdout",
     "output_type": "stream",
     "text": [
      "\n",
      "OpenFF Molecule created:\n",
      "Molecule with name '2244' and SMILES '[H][O][C](=[O])[c]1[c]([H])[c]([H])[c]([H])[c]([H])[c]1[O][C](=[O])[C]([H])([H])[H]'\n",
      "\n",
      "ForceField loaded:\n",
      "<openff.toolkit.typing.engines.smirnoff.forcefield.ForceField object at 0x7fddfe7a3af0>\n"
     ]
    }
   ],
   "source": [
    "from rdkit import Chem\n",
    "from openff.toolkit.topology import Molecule\n",
    "from openff.toolkit.typing.engines.smirnoff.forcefield import ForceField\n",
    "\n",
    "print(\"RDKit imported successfully!\")\n",
    "print(\"OpenFF Molecule imported successfully!\")\n",
    "print(\"OpenFF ForceField imported successfully!\")\n",
    "\n",
    "# Example: Aspirin from PubChem (as we did before)\n",
    "import requests\n",
    "aspirin_cid = 2244\n",
    "pubchem_url = f'https://pubchem.ncbi.nlm.nih.gov/rest/pug/compound/cid/{aspirin_cid}/SDF?record_type=2d'\n",
    "response = requests.get(pubchem_url)\n",
    "response.raise_for_status()\n",
    "aspirin_content = response.text\n",
    "\n",
    "rdmol = Chem.MolFromMolBlock(aspirin_content)\n",
    "offmol = Molecule.from_rdkit(rdmol)\n",
    "forcefield = ForceField(\"openff-2.2.0.offxml\") # Or \"amber/ff14SB_off_impro_smirnoff_0.0.2.offxml\" etc.\n",
    "interchange = forcefield.create_interchange(offmol.to_topology())\n",
    "\n",
    "display(rdmol) # If you imported display from IPython.display\n",
    "print(\"\\nOpenFF Molecule created:\")\n",
    "print(offmol)\n",
    "print(\"\\nForceField loaded:\")\n",
    "print(forcefield)"
   ]
  },
  {
   "cell_type": "code",
   "execution_count": 4,
   "id": "41caeaa8-2114-43b8-805f-ebfc567e4848",
   "metadata": {},
   "outputs": [
    {
     "data": {
      "application/vnd.jupyter.widget-view+json": {
       "model_id": "27bc3ffeeca14e0b830c53f2ba13befd",
       "version_major": 2,
       "version_minor": 0
      },
      "text/plain": [
       "NGLWidget(max_frame=99)"
      ]
     },
     "metadata": {},
     "output_type": "display_data"
    }
   ],
   "source": [
    "import openmm.app as app\n",
    "import openmm as om\n",
    "import openmm.unit as unit\n",
    "import mdtraj as md\n",
    "import nglview as ngl\n",
    "from openmm.app import StateDataReporter, DCDReporter\n",
    "\n",
    "def simulate_and_visualize(interchange):\n",
    "    # OpenMM setup\n",
    "    integrator = om.LangevinMiddleIntegrator(\n",
    "        300 * unit.kelvin,\n",
    "        1 / unit.picosecond,\n",
    "        0.002 * unit.picoseconds)\n",
    "    simulation = interchange.to_openmm_simulation(integrator)\n",
    "    simulation.minimizeEnergy(tolerance=100)\n",
    "    dcd_reporter = om.app.DCDReporter(file=\"trajectory.dcd\", reportInterval=10)\n",
    "\n",
    "    simulation.reporters.append(dcd_reporter)\n",
    "    simulation.step(1000)\n",
    "    # trajectory visualization\n",
    "    trajectory: md.Trajectory = md.load(\n",
    "        \"trajectory.dcd\", top=md.Topology.from_openmm(interchange.to_openmm_topology()))\n",
    "    view = ngl.show_mdtraj(trajectory)\n",
    "    view.add_representation(\"line\", selection=\"protein\")\n",
    "    view.add_line(selection=\"water\")\n",
    "    return view\n",
    "\n",
    "simulate_and_visualize(interchange)"
   ]
  },
  {
   "cell_type": "markdown",
   "id": "339e117c-ed1f-41b0-860d-7a13b47e5fc6",
   "metadata": {},
   "source": [
    "# OpenFF Objects, protein-ligand simulation"
   ]
  },
  {
   "cell_type": "code",
   "execution_count": 9,
   "id": "a9b4f481-72ab-4b5c-bc4c-2e08fab1e551",
   "metadata": {},
   "outputs": [
    {
     "data": {
      "application/vnd.jupyter.widget-view+json": {
       "model_id": "8ad38e8567d24716b62803d133382162",
       "version_major": 2,
       "version_minor": 0
      },
      "text/plain": [
       "NGLWidget()"
      ]
     },
     "metadata": {},
     "output_type": "display_data"
    }
   ],
   "source": [
    "from openff.toolkit import ForceField, Molecule, Topology\n",
    "\n",
    "top = Topology.from_pdb(\n",
    "    \"complex_topology.pdb\",\n",
    "    unique_molecules = [Molecule.from_smiles(\"c12c(Cl)cccc1sc(C(=O)[O-])c(Cl)2\")])\n",
    "protein = top.molecule(0)\n",
    "ligand = top.molecule(1)\n",
    "top.visualize()"
   ]
  },
  {
   "cell_type": "code",
   "execution_count": 13,
   "id": "3c5aa139-8334-4a2e-8980-4a2d4e8563f6",
   "metadata": {},
   "outputs": [
    {
     "data": {
      "application/vnd.jupyter.widget-view+json": {
       "model_id": "eb18faa58e9d424fa17c7e438ab7b82d",
       "version_major": 2,
       "version_minor": 0
      },
      "text/plain": [
       "NGLWidget()"
      ]
     },
     "metadata": {},
     "output_type": "display_data"
    }
   ],
   "source": [
    "from pdbfixer import PDBFixer\n",
    "# solvating the topology\n",
    "top.to_file('temp.pdb')\n",
    "fixer = PDBFixer('temp.pdb')\n",
    "fixer.addSolvent(padding = 0.5*unit.nanometer, ionicStrength = 0.15 * unit.molar)\n",
    "\n",
    "with open(\"receptor_solvated.pdb\", \"w\") as f:\n",
    "    app.PDBFile.writeFile(fixer.topology, fixer.positions, f)\n",
    "top = Topology.from_pdb(\"receptor_solvated.pdb\",\n",
    "                        unique_molecules = [top.molecule(1)])\n",
    "top.visualize()"
   ]
  },
  {
   "cell_type": "code",
   "execution_count": 17,
   "id": "ed6a89ca-8b29-4305-87f8-f976ab69afd1",
   "metadata": {},
   "outputs": [
    {
     "data": {
      "application/vnd.jupyter.widget-view+json": {
       "model_id": "b4640ed77c7c4df08e6d0d114c953f35",
       "version_major": 2,
       "version_minor": 0
      },
      "text/plain": [
       "NGLWidget(max_frame=99)"
      ]
     },
     "metadata": {},
     "output_type": "display_data"
    }
   ],
   "source": [
    "ff = ForceField(\"openff-2.2.0.offxml\", \"ff14sb_off_impropers_0.0.4.offxml\") # small molecules from openff, proteins from amber\n",
    "interchange = ff.create_interchange(top)\n",
    "integrator = om.LangevinMiddleIntegrator(\n",
    "        300 * unit.kelvin,\n",
    "        1 / unit.picosecond,\n",
    "        0.002 * unit.picoseconds)\n",
    "simulation = interchange.to_openmm_simulation(integrator)\n",
    "simulation.minimizeEnergy(tolerance=100)\n",
    "dcd_reporter = om.app.DCDReporter(file=\"trajectory.dcd\", reportInterval=10)\n",
    "\n",
    "simulation.reporters.append(dcd_reporter)\n",
    "simulation.step(1000)\n",
    "\n",
    "trajectory: md.Trajectory = md.load(\n",
    "\"trajectory.dcd\", top=md.Topology.from_openmm(interchange.to_openmm_topology()))\n",
    "view = ngl.show_mdtraj(trajectory)\n",
    "view.add_representation(\"line\", selection=\"protein\")\n",
    "view.add_line(selection=\"water\")\n",
    "view"
   ]
  },
  {
   "cell_type": "code",
   "execution_count": null,
   "id": "f05e8e20-60be-48a4-ace4-d743448b7f19",
   "metadata": {},
   "outputs": [],
   "source": []
  }
 ],
 "metadata": {
  "kernelspec": {
   "display_name": "Python 3 (ipykernel)",
   "language": "python",
   "name": "python3"
  },
  "language_info": {
   "codemirror_mode": {
    "name": "ipython",
    "version": 3
   },
   "file_extension": ".py",
   "mimetype": "text/x-python",
   "name": "python",
   "nbconvert_exporter": "python",
   "pygments_lexer": "ipython3",
   "version": "3.10.14"
  }
 },
 "nbformat": 4,
 "nbformat_minor": 5
}
